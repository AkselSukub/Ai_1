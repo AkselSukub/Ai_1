{
  "cells": [
    {
      "cell_type": "markdown",
      "metadata": {
        "id": "0WHrp4L2DlLO"
      },
      "source": [
        "# Лабораторная работа 1\n",
        "## Исследование набора данных авокадо, клевера и подсолнуха"
      ]
    },
    {
      "cell_type": "markdown",
      "metadata": {
        "id": "OuqYdfR6DlLR"
      },
      "source": [
        "### Подключение библиотеки NumPy и загрузка данных"
      ]
    },
    {
      "cell_type": "code",
      "source": [
        "!wget https://raw.githubusercontent.com/AkselSukub/Ai_1/main/data/seta.data"
      ],
      "metadata": {
        "colab": {
          "base_uri": "https://localhost:8080/"
        },
        "id": "tvYswangDm8g",
        "outputId": "6db33f13-749a-4ba6-b178-1667525c2f0c"
      },
      "execution_count": 7,
      "outputs": [
        {
          "output_type": "stream",
          "name": "stdout",
          "text": [
            "--2024-03-13 12:46:09--  https://raw.githubusercontent.com/AkselSukub/Ai_1/main/data/seta.data\n",
            "Resolving raw.githubusercontent.com (raw.githubusercontent.com)... 185.199.110.133, 185.199.109.133, 185.199.108.133, ...\n",
            "Connecting to raw.githubusercontent.com (raw.githubusercontent.com)|185.199.110.133|:443... connected.\n",
            "HTTP request sent, awaiting response... 200 OK\n",
            "Length: 4623 (4.5K) [text/plain]\n",
            "Saving to: ‘seta.data’\n",
            "\n",
            "\rseta.data             0%[                    ]       0  --.-KB/s               \rseta.data           100%[===================>]   4.51K  --.-KB/s    in 0s      \n",
            "\n",
            "2024-03-13 12:46:09 (48.2 MB/s) - ‘seta.data’ saved [4623/4623]\n",
            "\n"
          ]
        }
      ]
    },
    {
      "cell_type": "code",
      "execution_count": 8,
      "metadata": {
        "ExecuteTime": {
          "end_time": "2022-08-22T15:50:49.355964Z",
          "start_time": "2022-08-22T15:50:46.108877Z"
        },
        "colab": {
          "base_uri": "https://localhost:8080/"
        },
        "id": "Y-GOOMZhDlLR",
        "outputId": "bdab8ec9-657c-477d-c709-b13ec3009f92"
      },
      "outputs": [
        {
          "output_type": "stream",
          "name": "stdout",
          "text": [
            "[[1.3400e+01 2.6900e+00 6.6000e-01 6.4630e+02        nan]\n",
            " [1.3200e+01 2.6900e+00 6.6000e-01 6.4630e+02        nan]\n",
            " [1.3300e+01 2.7000e+00 6.4000e-01 6.1992e+02        nan]\n",
            " [1.2900e+01 2.6000e+00 6.6000e-01 6.4142e+02        nan]\n",
            " [1.3320e+01 2.6800e+00 6.6000e-01 6.4142e+02        nan]\n",
            " [1.2850e+01 2.6100e+00 6.4000e-01 6.2187e+02        nan]\n",
            " [1.2190e+01 2.6800e+00 6.6000e-01 6.4142e+02        nan]\n",
            " [1.3240e+01 2.8600e+00 6.6000e-01 6.4630e+02        nan]\n",
            " [1.2940e+01 2.5600e+00 6.4000e-01 6.2187e+02        nan]\n",
            " [1.2290e+01 2.6200e+00 6.4000e-01 6.2187e+02        nan]\n",
            " [1.2530e+01 2.6700e+00 6.8000e-01 6.6585e+02        nan]\n",
            " [1.2690e+01 2.6900e+00 6.3000e-01 6.1503e+02        nan]\n",
            " [1.3180e+01 2.8500e+00 6.4000e-01 6.2187e+02        nan]\n",
            " [1.2910e+01 2.7100e+00 6.6000e-01 6.4142e+02        nan]\n",
            " [1.2570e+01 2.5000e+00 6.6000e-01 6.4142e+02        nan]\n",
            " [1.2410e+01 2.5800e+00 6.6000e-01 6.4142e+02        nan]\n",
            " [1.3210e+01 2.6100e+00 6.4000e-01 6.1992e+02        nan]\n",
            " [1.3410e+01 2.6800e+00 6.4000e-01 6.2187e+02        nan]\n",
            " [1.2320e+01 2.5100e+00 6.8000e-01 6.6585e+02        nan]\n",
            " [1.2800e+01 2.6500e+00 6.8000e-01 6.6585e+02        nan]\n",
            " [1.3940e+01 2.7000e+00 6.4000e-01 6.2187e+02        nan]\n",
            " [1.3790e+01 2.5000e+00 6.4000e-01 6.2187e+02        nan]\n",
            " [1.3080e+01 2.6300e+00 6.4000e-01 6.2187e+02        nan]\n",
            " [1.2810e+01 2.7000e+00 6.8000e-01 6.6585e+02        nan]\n",
            " [1.2670e+01 2.6700e+00 6.3000e-01 6.1503e+02        nan]\n",
            " [1.2250e+01 2.6000e+00 6.6000e-01 6.4630e+02        nan]\n",
            " [1.4030e+01 2.6100e+00 6.4000e-01 6.2187e+02        nan]\n",
            " [1.3000e+01 2.7000e+00 6.6000e-01 6.4630e+02        nan]\n",
            " [1.2310e+01 2.8500e+00 6.8000e-01 6.6585e+02        nan]\n",
            " [1.2210e+01 2.5300e+00 6.8000e-01 6.6585e+02        nan]\n",
            " [1.2210e+01 2.8600e+00 6.4000e-01 6.2187e+02        nan]\n",
            " [1.3470e+01 2.6700e+00 6.6000e-01 6.4142e+02        nan]\n",
            " [1.2900e+01 2.8700e+00 6.6000e-01 6.4142e+02        nan]\n",
            " [1.3210e+01 2.5300e+00 6.6000e-01 6.4630e+02        nan]\n",
            " [1.2320e+01 2.8500e+00 6.6000e-01 6.4630e+02        nan]\n",
            " [1.2280e+01 2.6900e+00 6.6000e-01 6.4142e+02        nan]\n",
            " [1.2460e+01 2.7100e+00 6.6000e-01 6.4630e+02        nan]\n",
            " [1.2260e+01 2.6500e+00 6.6000e-01 6.4630e+02        nan]\n",
            " [1.3470e+01 2.6200e+00 6.8000e-01 6.6585e+02        nan]\n",
            " [1.2160e+01 2.6300e+00 6.3000e-01 6.1503e+02        nan]\n",
            " [1.2280e+01 2.5600e+00 6.6000e-01 6.3946e+02        nan]\n",
            " [1.2320e+01 2.6300e+00 6.1000e-01 5.9549e+02        nan]\n",
            " [1.2840e+01 2.8500e+00 6.8000e-01 6.6585e+02        nan]\n",
            " [1.3370e+01 2.6800e+00 6.4000e-01 6.2187e+02        nan]\n",
            " [1.3330e+01 2.7100e+00 6.4000e-01 6.2187e+02        nan]\n",
            " [1.2930e+01 2.8500e+00 6.4000e-01 6.2187e+02        nan]\n",
            " [1.2580e+01 2.8700e+00 6.6000e-01 6.4630e+02        nan]\n",
            " [1.3540e+01 2.6800e+00 6.4000e-01 6.2187e+02        nan]\n",
            " [1.2480e+01 2.8600e+00 6.6000e-01 6.3946e+02        nan]\n",
            " [1.2940e+01 2.8700e+00 6.6000e-01 6.3946e+02        nan]\n",
            " [1.6610e+01 2.8500e+00 6.4000e-01 1.3400e+02        nan]\n",
            " [1.5990e+01 2.8000e+00 6.6000e-01 1.3865e+02        nan]\n",
            " [1.4900e+01 2.9200e+00 6.4000e-01 1.3443e+02        nan]\n",
            " [1.4450e+01 2.8000e+00 6.6000e-01 1.3865e+02        nan]\n",
            " [1.4080e+01 2.8800e+00 6.6000e-01 1.3865e+02        nan]\n",
            " [1.6530e+01 2.9000e+00 6.6000e-01 1.3865e+02        nan]\n",
            " [1.6040e+01 2.8800e+00 6.8000e-01 1.4393e+02        nan]\n",
            " [1.4340e+01 2.9100e+00 6.6000e-01 1.3971e+02        nan]\n",
            " [1.6490e+01 2.8700e+00 6.6000e-01 1.3971e+02        nan]\n",
            " [1.6190e+01 2.9400e+00 6.4000e-01 1.3400e+02        nan]\n",
            " [1.4960e+01 2.9100e+00 6.4000e-01 1.3443e+02        nan]\n",
            " [1.6670e+01 2.8000e+00 6.4000e-01 1.3443e+02        nan]\n",
            " [1.5440e+01 2.9000e+00 6.8000e-01 1.4393e+02        nan]\n",
            " [1.4790e+01 2.8900e+00 6.4000e-01 1.3400e+02        nan]\n",
            " [1.3970e+01 2.9200e+00 6.6000e-01 1.3823e+02        nan]\n",
            " [1.6610e+01 2.9400e+00 6.8000e-01 1.4393e+02        nan]\n",
            " [1.4430e+01 2.9200e+00 6.8000e-01 1.4393e+02        nan]\n",
            " [1.6110e+01 2.9100e+00 6.6000e-01 1.3971e+02        nan]\n",
            " [1.5200e+01 2.8100e+00 6.6000e-01 1.3865e+02        nan]\n",
            " [1.3880e+01 2.8100e+00 6.6000e-01 1.3971e+02        nan]\n",
            " [1.5230e+01 2.9300e+00 6.8000e-01 1.4393e+02        nan]\n",
            " [1.4070e+01 2.8700e+00 6.4000e-01 1.3443e+02        nan]\n",
            " [1.5760e+01 2.9300e+00 6.1000e-01 1.2872e+02        nan]\n",
            " [1.6200e+01 2.8300e+00 6.4000e-01 1.3443e+02        nan]\n",
            " [1.4030e+01 2.8200e+00 6.4000e-01 1.3443e+02        nan]\n",
            " [1.4320e+01 2.8100e+00 6.8000e-01 1.4393e+02        nan]\n",
            " [1.5290e+01 2.8200e+00 6.4000e-01 1.3443e+02        nan]\n",
            " [1.4160e+01 2.8200e+00 6.4000e-01 1.3400e+02        nan]\n",
            " [1.5020e+01 2.8800e+00 6.4000e-01 1.3443e+02        nan]\n",
            " [1.5370e+01 2.8500e+00 6.1000e-01 1.2872e+02        nan]\n",
            " [1.5230e+01 2.8100e+00 6.6000e-01 1.3971e+02        nan]\n",
            " [1.6260e+01 2.8400e+00 6.6000e-01 1.3823e+02        nan]\n",
            " [1.5930e+01 2.8300e+00 6.8000e-01 1.4393e+02        nan]\n",
            " [1.5360e+01 2.9100e+00 6.8000e-01 1.4393e+02        nan]\n",
            " [1.6710e+01 2.8200e+00 6.4000e-01 1.3400e+02        nan]\n",
            " [1.3980e+01 2.8400e+00 6.4000e-01 1.3443e+02        nan]\n",
            " [1.4270e+01 2.8000e+00 6.4000e-01 1.3400e+02        nan]\n",
            " [1.6260e+01 2.9000e+00 6.6000e-01 1.3865e+02        nan]\n",
            " [1.4760e+01 2.9300e+00 6.4000e-01 1.3443e+02        nan]\n",
            " [1.4000e+01 2.8900e+00 6.6000e-01 1.3971e+02        nan]\n",
            " [1.6080e+01 2.9400e+00 6.6000e-01 1.3971e+02        nan]\n",
            " [1.5410e+01 2.9400e+00 6.6000e-01 1.3971e+02        nan]\n",
            " [1.3800e+01 2.8200e+00 6.4000e-01 1.3443e+02        nan]\n",
            " [1.3920e+01 2.8600e+00 6.6000e-01 1.3865e+02        nan]\n",
            " [1.4890e+01 2.8700e+00 6.4000e-01 1.3443e+02        nan]\n",
            " [1.4290e+01 2.8800e+00 6.6000e-01 1.3865e+02        nan]\n",
            " [1.5500e+01 2.9000e+00 6.6000e-01 1.3971e+02        nan]\n",
            " [1.5730e+01 2.8000e+00 6.6000e-01 1.3971e+02        nan]\n",
            " [1.4840e+01 2.9200e+00 6.6000e-01 1.3971e+02        nan]\n",
            " [1.5130e+01 2.8800e+00 6.6000e-01 1.3971e+02        nan]\n",
            " [2.3990e+01 7.2900e+00 9.9000e-01 8.7889e+02        nan]\n",
            " [2.3620e+01 7.2400e+00 9.9000e-01 8.7889e+02        nan]\n",
            " [2.3480e+01 7.2800e+00 9.2000e-01 8.1504e+02        nan]\n",
            " [2.3400e+01 7.5000e+00 9.2000e-01 8.1681e+02        nan]\n",
            " [2.3680e+01 7.1900e+00 9.7000e-01 8.6115e+02        nan]\n",
            " [2.1870e+01 7.3100e+00 9.7000e-01 8.6115e+02        nan]\n",
            " [2.3550e+01 7.1900e+00 9.9000e-01 8.7889e+02        nan]\n",
            " [2.2250e+01 7.4900e+00 9.9000e-01 8.7889e+02        nan]\n",
            " [2.3620e+01 7.1700e+00 9.7000e-01 8.6115e+02        nan]\n",
            " [2.1910e+01 7.2600e+00 1.0000e+00 8.8599e+02        nan]\n",
            " [2.2280e+01 7.4000e+00 1.0000e+00 8.8599e+02        nan]\n",
            " [2.2290e+01 7.4100e+00 9.9000e-01 8.7889e+02        nan]\n",
            " [2.1910e+01 7.3000e+00 9.2000e-01 8.1504e+02        nan]\n",
            " [2.2360e+01 7.3000e+00 9.7000e-01 8.6115e+02        nan]\n",
            " [2.2830e+01 7.3800e+00 9.7000e-01 8.5672e+02        nan]\n",
            " [2.2820e+01 7.2800e+00 9.7000e-01 8.6115e+02        nan]\n",
            " [2.2700e+01 7.2100e+00 9.5000e-01 8.3898e+02        nan]\n",
            " [2.2820e+01 7.3100e+00 9.7000e-01 8.6115e+02        nan]\n",
            " [2.3080e+01 7.2000e+00 9.0000e-01 7.9908e+02        nan]\n",
            " [2.3580e+01 7.3700e+00 9.5000e-01 8.3898e+02        nan]\n",
            " [2.3010e+01 7.3000e+00 1.0000e+00 8.8599e+02        nan]\n",
            " [2.3900e+01 7.4100e+00 9.5000e-01 8.3898e+02        nan]\n",
            " [2.3440e+01 7.3300e+00 9.7000e-01 8.5672e+02        nan]\n",
            " [2.3150e+01 7.3000e+00 1.0000e+00 8.8599e+02        nan]\n",
            " [2.3870e+01 7.4000e+00 9.5000e-01 8.3898e+02        nan]\n",
            " [2.3920e+01 7.4600e+00 9.0000e-01 7.9908e+02        nan]\n",
            " [2.3020e+01 7.1200e+00 9.7000e-01 8.6115e+02        nan]\n",
            " [2.3320e+01 7.1600e+00 9.0000e-01 7.9464e+02        nan]\n",
            " [2.2520e+01 7.3100e+00 9.5000e-01 8.3898e+02        nan]\n",
            " [2.2260e+01 7.3500e+00 9.7000e-01 8.6115e+02        nan]\n",
            " [2.3890e+01 7.3000e+00 9.5000e-01 8.3898e+02        nan]\n",
            " [2.3710e+01 7.2500e+00 9.0000e-01 7.9464e+02        nan]\n",
            " [2.2370e+01 7.3900e+00 9.7000e-01 8.6115e+02        nan]\n",
            " [2.3140e+01 7.3700e+00 9.0000e-01 7.9908e+02        nan]\n",
            " [2.3780e+01 7.1700e+00 9.7000e-01 8.6115e+02        nan]\n",
            " [2.2880e+01 7.3900e+00 9.5000e-01 8.3898e+02        nan]\n",
            " [2.2350e+01 7.1600e+00 9.9000e-01 8.7889e+02        nan]\n",
            " [2.2830e+01 7.5000e+00 9.7000e-01 8.6115e+02        nan]\n",
            " [2.3960e+01 7.1700e+00 9.4000e-01 8.3278e+02        nan]\n",
            " [2.2860e+01 7.4900e+00 9.7000e-01 8.5672e+02        nan]\n",
            " [2.3230e+01 7.4900e+00 1.0000e+00 8.8599e+02        nan]\n",
            " [2.3970e+01 7.4000e+00 1.0000e+00 8.8599e+02        nan]\n",
            " [2.2840e+01 7.2200e+00 9.0000e-01 7.9908e+02        nan]\n",
            " [2.2490e+01 7.2400e+00 1.0000e+00 8.8599e+02        nan]\n",
            " [2.3150e+01 7.3500e+00 9.5000e-01 8.3898e+02        nan]\n",
            " [2.2510e+01 7.3700e+00 9.9000e-01 8.7889e+02        nan]\n",
            " [2.3150e+01 7.4400e+00 1.0000e+00 8.8599e+02        nan]\n",
            " [2.3310e+01 7.1200e+00 9.0000e-01 7.9908e+02        nan]\n",
            " [2.3070e+01 7.2300e+00 9.4000e-01 8.3721e+02        nan]\n",
            " [2.1890e+01 7.2200e+00 9.0000e-01 7.9464e+02        nan]]\n"
          ]
        }
      ],
      "source": [
        "import numpy as np\n",
        "data_path = \"seta.data\"\n",
        "data = np.genfromtxt(data_path, delimiter=\",\")\n",
        "print(data)"
      ]
    },
    {
      "cell_type": "markdown",
      "metadata": {
        "id": "BRkRKa7vDlLT"
      },
      "source": [
        "### Тип переменной и форма (shape)"
      ]
    },
    {
      "cell_type": "code",
      "execution_count": 9,
      "metadata": {
        "ExecuteTime": {
          "end_time": "2022-08-22T15:50:53.470268Z",
          "start_time": "2022-08-22T15:50:53.466267Z"
        },
        "colab": {
          "base_uri": "https://localhost:8080/"
        },
        "id": "n1sUPh2yDlLT",
        "outputId": "3a2e75d8-ed28-4c41-a2f7-eb16092aac5a"
      },
      "outputs": [
        {
          "output_type": "stream",
          "name": "stdout",
          "text": [
            "Data type :  <class 'numpy.ndarray'>\n",
            "Data shape :  (150, 5)\n",
            "[[ 23.15   7.44   1.   885.99    nan]\n",
            " [ 23.31   7.12   0.9  799.08    nan]\n",
            " [ 23.07   7.23   0.94 837.21    nan]\n",
            " [ 21.89   7.22   0.9  794.64    nan]]\n"
          ]
        }
      ],
      "source": [
        "print ( \"Data type : \", type(data) )\n",
        "print ( \"Data shape : \", data.shape )\n",
        "print ( data[-4:] )"
      ]
    },
    {
      "cell_type": "markdown",
      "metadata": {
        "id": "WnQZ1-tlDlLT"
      },
      "source": [
        "### Получение типа набора данных, строки, элемента"
      ]
    },
    {
      "cell_type": "code",
      "execution_count": 10,
      "metadata": {
        "ExecuteTime": {
          "end_time": "2022-08-22T15:50:56.469203Z",
          "start_time": "2022-08-22T15:50:56.442184Z"
        },
        "colab": {
          "base_uri": "https://localhost:8080/"
        },
        "id": "diZMLAwIDlLT",
        "outputId": "4fa756b9-72bc-4bab-d17b-80d695a3ee9d"
      },
      "outputs": [
        {
          "output_type": "stream",
          "name": "stdout",
          "text": [
            "Shape of the dataset: (150,)\n",
            "Dataset type: <class 'numpy.ndarray'>\n",
            "A single row of the dataset is type of: <class 'numpy.void'>\n",
            "Types of elements: <class 'numpy.float64'> <class 'numpy.bytes_'>\n",
            "Dataset:\n",
            "[(13.4 , 2.69, 0.66, 646.3 , b'Avocado')\n",
            " (13.2 , 2.69, 0.66, 646.3 , b'Avocado')\n",
            " (13.3 , 2.7 , 0.64, 619.92, b'Avocado')\n",
            " (12.9 , 2.6 , 0.66, 641.42, b'Avocado')\n",
            " (13.32, 2.68, 0.66, 641.42, b'Avocado')\n",
            " (12.85, 2.61, 0.64, 621.87, b'Avocado')\n",
            " (12.19, 2.68, 0.66, 641.42, b'Avocado')\n",
            " (13.24, 2.86, 0.66, 646.3 , b'Avocado')\n",
            " (12.94, 2.56, 0.64, 621.87, b'Avocado')\n",
            " (12.29, 2.62, 0.64, 621.87, b'Avocado')\n",
            " (12.53, 2.67, 0.68, 665.85, b'Avocado')\n",
            " (12.69, 2.69, 0.63, 615.03, b'Avocado')\n",
            " (13.18, 2.85, 0.64, 621.87, b'Avocado')\n",
            " (12.91, 2.71, 0.66, 641.42, b'Avocado')\n",
            " (12.57, 2.5 , 0.66, 641.42, b'Avocado')\n",
            " (12.41, 2.58, 0.66, 641.42, b'Avocado')\n",
            " (13.21, 2.61, 0.64, 619.92, b'Avocado')\n",
            " (13.41, 2.68, 0.64, 621.87, b'Avocado')\n",
            " (12.32, 2.51, 0.68, 665.85, b'Avocado')\n",
            " (12.8 , 2.65, 0.68, 665.85, b'Avocado')\n",
            " (13.94, 2.7 , 0.64, 621.87, b'Avocado')\n",
            " (13.79, 2.5 , 0.64, 621.87, b'Avocado')\n",
            " (13.08, 2.63, 0.64, 621.87, b'Avocado')\n",
            " (12.81, 2.7 , 0.68, 665.85, b'Avocado')\n",
            " (12.67, 2.67, 0.63, 615.03, b'Avocado')\n",
            " (12.25, 2.6 , 0.66, 646.3 , b'Avocado')\n",
            " (14.03, 2.61, 0.64, 621.87, b'Avocado')\n",
            " (13.  , 2.7 , 0.66, 646.3 , b'Avocado')\n",
            " (12.31, 2.85, 0.68, 665.85, b'Avocado')\n",
            " (12.21, 2.53, 0.68, 665.85, b'Avocado')\n",
            " (12.21, 2.86, 0.64, 621.87, b'Avocado')\n",
            " (13.47, 2.67, 0.66, 641.42, b'Avocado')\n",
            " (12.9 , 2.87, 0.66, 641.42, b'Avocado')\n",
            " (13.21, 2.53, 0.66, 646.3 , b'Avocado')\n",
            " (12.32, 2.85, 0.66, 646.3 , b'Avocado')\n",
            " (12.28, 2.69, 0.66, 641.42, b'Avocado')\n",
            " (12.46, 2.71, 0.66, 646.3 , b'Avocado')\n",
            " (12.26, 2.65, 0.66, 646.3 , b'Avocado')\n",
            " (13.47, 2.62, 0.68, 665.85, b'Avocado')\n",
            " (12.16, 2.63, 0.63, 615.03, b'Avocado')\n",
            " (12.28, 2.56, 0.66, 639.46, b'Avocado')\n",
            " (12.32, 2.63, 0.61, 595.49, b'Avocado')\n",
            " (12.84, 2.85, 0.68, 665.85, b'Avocado')\n",
            " (13.37, 2.68, 0.64, 621.87, b'Avocado')\n",
            " (13.33, 2.71, 0.64, 621.87, b'Avocado')\n",
            " (12.93, 2.85, 0.64, 621.87, b'Avocado')\n",
            " (12.58, 2.87, 0.66, 646.3 , b'Avocado')\n",
            " (13.54, 2.68, 0.64, 621.87, b'Avocado')\n",
            " (12.48, 2.86, 0.66, 639.46, b'Avocado')\n",
            " (12.94, 2.87, 0.66, 639.46, b'Avocado')\n",
            " (16.61, 2.85, 0.64, 134.  , b'Clover')\n",
            " (15.99, 2.8 , 0.66, 138.65, b'Clover')\n",
            " (14.9 , 2.92, 0.64, 134.43, b'Clover')\n",
            " (14.45, 2.8 , 0.66, 138.65, b'Clover')\n",
            " (14.08, 2.88, 0.66, 138.65, b'Clover')\n",
            " (16.53, 2.9 , 0.66, 138.65, b'Clover')\n",
            " (16.04, 2.88, 0.68, 143.93, b'Clover')\n",
            " (14.34, 2.91, 0.66, 139.71, b'Clover')\n",
            " (16.49, 2.87, 0.66, 139.71, b'Clover')\n",
            " (16.19, 2.94, 0.64, 134.  , b'Clover')\n",
            " (14.96, 2.91, 0.64, 134.43, b'Clover')\n",
            " (16.67, 2.8 , 0.64, 134.43, b'Clover')\n",
            " (15.44, 2.9 , 0.68, 143.93, b'Clover')\n",
            " (14.79, 2.89, 0.64, 134.  , b'Clover')\n",
            " (13.97, 2.92, 0.66, 138.23, b'Clover')\n",
            " (16.61, 2.94, 0.68, 143.93, b'Clover')\n",
            " (14.43, 2.92, 0.68, 143.93, b'Clover')\n",
            " (16.11, 2.91, 0.66, 139.71, b'Clover')\n",
            " (15.2 , 2.81, 0.66, 138.65, b'Clover')\n",
            " (13.88, 2.81, 0.66, 139.71, b'Clover')\n",
            " (15.23, 2.93, 0.68, 143.93, b'Clover')\n",
            " (14.07, 2.87, 0.64, 134.43, b'Clover')\n",
            " (15.76, 2.93, 0.61, 128.72, b'Clover')\n",
            " (16.2 , 2.83, 0.64, 134.43, b'Clover')\n",
            " (14.03, 2.82, 0.64, 134.43, b'Clover')\n",
            " (14.32, 2.81, 0.68, 143.93, b'Clover')\n",
            " (15.29, 2.82, 0.64, 134.43, b'Clover')\n",
            " (14.16, 2.82, 0.64, 134.  , b'Clover')\n",
            " (15.02, 2.88, 0.64, 134.43, b'Clover')\n",
            " (15.37, 2.85, 0.61, 128.72, b'Clover')\n",
            " (15.23, 2.81, 0.66, 139.71, b'Clover')\n",
            " (16.26, 2.84, 0.66, 138.23, b'Clover')\n",
            " (15.93, 2.83, 0.68, 143.93, b'Clover')\n",
            " (15.36, 2.91, 0.68, 143.93, b'Clover')\n",
            " (16.71, 2.82, 0.64, 134.  , b'Clover')\n",
            " (13.98, 2.84, 0.64, 134.43, b'Clover')\n",
            " (14.27, 2.8 , 0.64, 134.  , b'Clover')\n",
            " (16.26, 2.9 , 0.66, 138.65, b'Clover')\n",
            " (14.76, 2.93, 0.64, 134.43, b'Clover')\n",
            " (14.  , 2.89, 0.66, 139.71, b'Clover')\n",
            " (16.08, 2.94, 0.66, 139.71, b'Clover')\n",
            " (15.41, 2.94, 0.66, 139.71, b'Clover')\n",
            " (13.8 , 2.82, 0.64, 134.43, b'Clover')\n",
            " (13.92, 2.86, 0.66, 138.65, b'Clover')\n",
            " (14.89, 2.87, 0.64, 134.43, b'Clover')\n",
            " (14.29, 2.88, 0.66, 138.65, b'Clover')\n",
            " (15.5 , 2.9 , 0.66, 139.71, b'Clover')\n",
            " (15.73, 2.8 , 0.66, 139.71, b'Clover')\n",
            " (14.84, 2.92, 0.66, 139.71, b'Clover')\n",
            " (15.13, 2.88, 0.66, 139.71, b'Clover')\n",
            " (23.99, 7.29, 0.99, 878.89, b'Sunflower')\n",
            " (23.62, 7.24, 0.99, 878.89, b'Sunflower')\n",
            " (23.48, 7.28, 0.92, 815.04, b'Sunflower')\n",
            " (23.4 , 7.5 , 0.92, 816.81, b'Sunflower')\n",
            " (23.68, 7.19, 0.97, 861.15, b'Sunflower')\n",
            " (21.87, 7.31, 0.97, 861.15, b'Sunflower')\n",
            " (23.55, 7.19, 0.99, 878.89, b'Sunflower')\n",
            " (22.25, 7.49, 0.99, 878.89, b'Sunflower')\n",
            " (23.62, 7.17, 0.97, 861.15, b'Sunflower')\n",
            " (21.91, 7.26, 1.  , 885.99, b'Sunflower')\n",
            " (22.28, 7.4 , 1.  , 885.99, b'Sunflower')\n",
            " (22.29, 7.41, 0.99, 878.89, b'Sunflower')\n",
            " (21.91, 7.3 , 0.92, 815.04, b'Sunflower')\n",
            " (22.36, 7.3 , 0.97, 861.15, b'Sunflower')\n",
            " (22.83, 7.38, 0.97, 856.72, b'Sunflower')\n",
            " (22.82, 7.28, 0.97, 861.15, b'Sunflower')\n",
            " (22.7 , 7.21, 0.95, 838.98, b'Sunflower')\n",
            " (22.82, 7.31, 0.97, 861.15, b'Sunflower')\n",
            " (23.08, 7.2 , 0.9 , 799.08, b'Sunflower')\n",
            " (23.58, 7.37, 0.95, 838.98, b'Sunflower')\n",
            " (23.01, 7.3 , 1.  , 885.99, b'Sunflower')\n",
            " (23.9 , 7.41, 0.95, 838.98, b'Sunflower')\n",
            " (23.44, 7.33, 0.97, 856.72, b'Sunflower')\n",
            " (23.15, 7.3 , 1.  , 885.99, b'Sunflower')\n",
            " (23.87, 7.4 , 0.95, 838.98, b'Sunflower')\n",
            " (23.92, 7.46, 0.9 , 799.08, b'Sunflower')\n",
            " (23.02, 7.12, 0.97, 861.15, b'Sunflower')\n",
            " (23.32, 7.16, 0.9 , 794.64, b'Sunflower')\n",
            " (22.52, 7.31, 0.95, 838.98, b'Sunflower')\n",
            " (22.26, 7.35, 0.97, 861.15, b'Sunflower')\n",
            " (23.89, 7.3 , 0.95, 838.98, b'Sunflower')\n",
            " (23.71, 7.25, 0.9 , 794.64, b'Sunflower')\n",
            " (22.37, 7.39, 0.97, 861.15, b'Sunflower')\n",
            " (23.14, 7.37, 0.9 , 799.08, b'Sunflower')\n",
            " (23.78, 7.17, 0.97, 861.15, b'Sunflower')\n",
            " (22.88, 7.39, 0.95, 838.98, b'Sunflower')\n",
            " (22.35, 7.16, 0.99, 878.89, b'Sunflower')\n",
            " (22.83, 7.5 , 0.97, 861.15, b'Sunflower')\n",
            " (23.96, 7.17, 0.94, 832.78, b'Sunflower')\n",
            " (22.86, 7.49, 0.97, 856.72, b'Sunflower')\n",
            " (23.23, 7.49, 1.  , 885.99, b'Sunflower')\n",
            " (23.97, 7.4 , 1.  , 885.99, b'Sunflower')\n",
            " (22.84, 7.22, 0.9 , 799.08, b'Sunflower')\n",
            " (22.49, 7.24, 1.  , 885.99, b'Sunflower')\n",
            " (23.15, 7.35, 0.95, 838.98, b'Sunflower')\n",
            " (22.51, 7.37, 0.99, 878.89, b'Sunflower')\n",
            " (23.15, 7.44, 1.  , 885.99, b'Sunflower')\n",
            " (23.31, 7.12, 0.9 , 799.08, b'Sunflower')\n",
            " (23.07, 7.23, 0.94, 837.21, b'Sunflower')\n",
            " (21.89, 7.22, 0.9 , 794.64, b'Sunflower')]\n"
          ]
        },
        {
          "output_type": "stream",
          "name": "stderr",
          "text": [
            "<ipython-input-10-be1180784c4e>:1: VisibleDeprecationWarning: Reading unicode strings without specifying the encoding argument is deprecated. Set the encoding, use None for the system default.\n",
            "  data1 = np.genfromtxt(data_path, delimiter=\",\", dtype=None)\n"
          ]
        }
      ],
      "source": [
        "data1 = np.genfromtxt(data_path, delimiter=\",\", dtype=None)\n",
        "print('Shape of the dataset:', data1.shape)\n",
        "print('Dataset type:', type(data1))\n",
        "print('A single row of the dataset is type of:', type(data1[0]))\n",
        "print('Types of elements:', type(data1[0][1]), type(data1[0][4]))\n",
        "print('Dataset:')\n",
        "print(data1)"
      ]
    },
    {
      "cell_type": "markdown",
      "metadata": {
        "id": "RIYW2mlDDlLU"
      },
      "source": [
        "### Указание типа столбцов при загрузке данных"
      ]
    },
    {
      "cell_type": "code",
      "execution_count": 11,
      "metadata": {
        "ExecuteTime": {
          "end_time": "2022-08-22T15:50:59.019675Z",
          "start_time": "2022-08-22T15:50:59.010669Z"
        },
        "id": "jo7IGpavDlLU",
        "colab": {
          "base_uri": "https://localhost:8080/"
        },
        "outputId": "76b3d828-bfce-4924-d0b2-a96df018828b"
      },
      "outputs": [
        {
          "output_type": "stream",
          "name": "stdout",
          "text": [
            "Shape of the dataset: (150,)\n",
            "Dataset type: <class 'numpy.ndarray'>\n",
            "A single row of the dataset is type of: <class 'numpy.void'>\n",
            "Types of elements: <class 'numpy.float64'> <class 'numpy.str_'>\n",
            "Dataset slice:\n",
            "[(13.4 , 2.69, 0.66, 646.3 , 'Avocado')\n",
            " (13.2 , 2.69, 0.66, 646.3 , 'Avocado')\n",
            " (13.3 , 2.7 , 0.64, 619.92, 'Avocado')\n",
            " (12.9 , 2.6 , 0.66, 641.42, 'Avocado')\n",
            " (13.32, 2.68, 0.66, 641.42, 'Avocado')\n",
            " (12.85, 2.61, 0.64, 621.87, 'Avocado')\n",
            " (12.19, 2.68, 0.66, 641.42, 'Avocado')\n",
            " (13.24, 2.86, 0.66, 646.3 , 'Avocado')\n",
            " (12.94, 2.56, 0.64, 621.87, 'Avocado')\n",
            " (12.29, 2.62, 0.64, 621.87, 'Avocado')]\n"
          ]
        }
      ],
      "source": [
        "dt = np.dtype(\"f8, f8, f8, f8, U30\")\n",
        "data2 = np.genfromtxt(data_path, delimiter=\",\", dtype=dt)\n",
        "print('Shape of the dataset:', data2.shape)\n",
        "print('Dataset type:', type(data2))\n",
        "print('A single row of the dataset is type of:', type(data2[0]))\n",
        "print('Types of elements:', type(data2[0][1]), type(data2[0][4]))\n",
        "print('Dataset slice:')\n",
        "print(data2[:10])"
      ]
    },
    {
      "cell_type": "markdown",
      "metadata": {
        "id": "_zYCLCz1DlLU"
      },
      "source": [
        "### Построение графиков с использованием Matplotlib"
      ]
    },
    {
      "cell_type": "code",
      "execution_count": 13,
      "metadata": {
        "ExecuteTime": {
          "end_time": "2022-08-22T15:51:05.402528Z",
          "start_time": "2022-08-22T15:51:01.482184Z"
        },
        "id": "JY7JW0tBDlLV",
        "colab": {
          "base_uri": "https://localhost:8080/",
          "height": 1000
        },
        "outputId": "82e4f1ce-1c01-4005-bf01-d8d5522c284e"
      },
      "outputs": [
        {
          "output_type": "display_data",
          "data": {
            "text/plain": [
              "<Figure size 640x480 with 1 Axes>"
            ],
            "image/png": "[encoded data removed]"
          },
          "metadata": {}
        },
        {
          "output_type": "display_data",
          "data": {
            "text/plain": [
              "<Figure size 640x480 with 1 Axes>"
            ],
            "image/png": "[encoded data removed]"
          },
          "metadata": {}
        },
        {
          "output_type": "display_data",
          "data": {
            "text/plain": [
              "<Figure size 640x480 with 1 Axes>"
            ],
            "image/png": "[encoded data removed]"
          },
          "metadata": {}
        }
      ],
      "source": [
        "import matplotlib as mpl\n",
        "import matplotlib.pyplot as plt\n",
        "%matplotlib inline\n",
        "\n",
        "# Данные из отдельных столбцов\n",
        "water_content = [] # Water Content\n",
        "ph = [] # Ph\n",
        "purity = [] # Purity\n",
        "price = [] # Price\n",
        "\n",
        "# Выполняем обход всей коллекции data2\n",
        "for dot in data2:\n",
        "    water_content.append(dot[0])\n",
        "    ph.append(dot[1])\n",
        "    purity.append(dot[2])\n",
        "    price.append(dot[3])\n",
        "\n",
        "# Строим графики по проекциям данных\n",
        "# Учитываем, что каждые 50 типов ирисов идут последовательно\n",
        "plt.figure(1)\n",
        "setosa, = plt.plot(water_content[:50], ph[:50], 'ro', label='Avocado')\n",
        "versicolor, = plt.plot(water_content[50:100], ph[50:100], 'g^', label='Clever')\n",
        "virginica, = plt.plot(water_content[100:150], ph[100:150], 'bs', label='Sunflower')\n",
        "plt.legend(bbox_to_anchor=(1.05, 1), loc=2, borderaxespad=0.)\n",
        "plt.xlabel('Sepal Length')\n",
        "plt.ylabel('Sepal Width')\n",
        "\n",
        "plt.figure(2)\n",
        "setosa, = plt.plot(water_content[:50], purity[:50], 'ro', label='Avocado')\n",
        "versicolor, = plt.plot(water_content[50:100], purity[50:100], 'g^', label='Clever')\n",
        "virginica, = plt.plot(water_content[100:150], purity[100:150], 'bs', label='Sunflower')\n",
        "plt.legend(bbox_to_anchor=(1.05, 1), loc=2, borderaxespad=0.)\n",
        "plt.xlabel('Sepal Length')\n",
        "plt.ylabel('Petal Length')\n",
        "\n",
        "plt.figure(3)\n",
        "setosa, = plt.plot(water_content[:50], price[:50], 'ro', label='Avocado')\n",
        "versicolor, = plt.plot(water_content[50:100], price[50:100], 'g^', label='Clever')\n",
        "virginica, = plt.plot(water_content[100:150], price[100:150], 'bs', label='Sunflower')\n",
        "plt.legend(bbox_to_anchor=(1.05, 1), loc=2, borderaxespad=0.)\n",
        "plt.xlabel('Sepal Length')\n",
        "plt.ylabel('Petal Width')\n",
        "\n",
        "plt.show()\n",
        "\n"
      ]
    },
    {
      "cell_type": "code",
      "source": [],
      "metadata": {
        "id": "wElg_74fDx4w"
      },
      "execution_count": null,
      "outputs": []
    }
  ],
  "metadata": {
    "kernelspec": {
      "display_name": "Python 3",
      "language": "python",
      "name": "python3"
    },
    "language_info": {
      "codemirror_mode": {
        "name": "ipython",
        "version": 3
      },
      "file_extension": ".py",
      "mimetype": "text/x-python",
      "name": "python",
      "nbconvert_exporter": "python",
      "pygments_lexer": "ipython3",
      "version": "3.6.6"
    },
    "toc": {
      "base_numbering": 1,
      "nav_menu": {},
      "number_sections": true,
      "sideBar": true,
      "skip_h1_title": false,
      "title_cell": "Table of Contents",
      "title_sidebar": "Contents",
      "toc_cell": false,
      "toc_position": {},
      "toc_section_display": true,
      "toc_window_display": false
    },
    "colab": {
      "provenance": []
    }
  },
  "nbformat": 4,
  "nbformat_minor": 0
}